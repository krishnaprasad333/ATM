{
 "cells": [
  {
   "cell_type": "code",
   "execution_count": null,
   "id": "51bb3129-df97-4b44-a5d5-a07fc4db7113",
   "metadata": {},
   "outputs": [],
   "source": []
  },
  {
   "cell_type": "markdown",
   "id": "748d2fa2-e7af-4200-af4b-92c6f399e04b",
   "metadata": {},
   "source": [
    "\n",
    "# Create An ATM Application using OOPS concepts which includes like\n",
    " [ Abstraction , Encapsulation ,Inheritance , Polymorphism ]"
   ]
  },
  {
   "cell_type": "code",
   "execution_count": null,
   "id": "c71df161-3e08-42d8-8acc-94fe63daf293",
   "metadata": {},
   "outputs": [],
   "source": []
  },
  {
   "cell_type": "code",
   "execution_count": null,
   "id": "9aa69790-fb1b-4029-b60f-32246c5eb55f",
   "metadata": {},
   "outputs": [],
   "source": []
  },
  {
   "cell_type": "code",
   "execution_count": 2,
   "id": "a46c3cc9-be20-41a7-9e7b-09751495d02f",
   "metadata": {},
   "outputs": [
    {
     "name": "stdout",
     "output_type": "stream",
     "text": [
      "welcome krishna ur savings account is open\n",
      "Total balance: 100000\n",
      "50000,deposit sucessful\n",
      "Total balance: 150000\n",
      "amount debited from ur ac xxxx 75000\n",
      "Total balance: 75000\n"
     ]
    }
   ],
   "source": [
    "from abc import ABC , abstractmethod\n",
    "\n",
    "\n",
    "\n",
    "class ATM(ABC) :\n",
    "\n",
    "    @abstractmethod\n",
    "    def withdraw():\n",
    "        pass\n",
    "\n",
    "    @abstractmethod\n",
    "    def deposit():\n",
    "         pass\n",
    "     \n",
    "    @abstractmethod\n",
    "    def check_balance():\n",
    "         pass\n",
    "\n",
    "class bankaccount(ATM):\n",
    "    def __init__(self,balance = 100000):\n",
    "        self.__balance = balance\n",
    "\n",
    "    def deposit(self ,amount):\n",
    "         if amount > 0:\n",
    "            self.__balance += amount\n",
    "            print(f\"{amount},deposit sucessful\")\n",
    "         else :\n",
    "            print('deposit fail')\n",
    "\n",
    "    def withdraw(self,amount):\n",
    "        if amount > 0 :\n",
    "            self.__balance -= amount\n",
    "            print('amount debited from ur ac xxxx',amount)\n",
    "        else :\n",
    "            print('withdraw fail low balance')\n",
    "\n",
    "    def check_balance(self):\n",
    "        print( 'Total balance:',self.__balance)\n",
    "\n",
    "class savings_acc(bankaccount):\n",
    "         def  perform_withdraw(self):\n",
    "              print('welcome krishna ur savings account is open')\n",
    "\n",
    "x = savings_acc()\n",
    "x.perform_withdraw()\n",
    "x.check_balance()\n",
    "x.deposit(50000)\n",
    "x.check_balance()\n",
    "x.withdraw(75000)\n",
    "x.check_balance()\n",
    "\n",
    "\n"
   ]
  },
  {
   "cell_type": "code",
   "execution_count": null,
   "id": "8d804db5-b23e-4985-b9fd-e3a64bed217f",
   "metadata": {},
   "outputs": [],
   "source": []
  },
  {
   "cell_type": "code",
   "execution_count": null,
   "id": "e6249218-b6cb-4db2-ba3d-fd23c01b4710",
   "metadata": {},
   "outputs": [],
   "source": []
  },
  {
   "cell_type": "code",
   "execution_count": null,
   "id": "b0081b4a-1894-4342-b0d1-8bf58d23e8ca",
   "metadata": {},
   "outputs": [],
   "source": []
  },
  {
   "cell_type": "code",
   "execution_count": null,
   "id": "f2ad2e70-50a5-4689-9b65-f20b78395c0f",
   "metadata": {},
   "outputs": [],
   "source": []
  },
  {
   "cell_type": "code",
   "execution_count": null,
   "id": "191bb424-7bfe-44c1-8819-02f435f78be6",
   "metadata": {},
   "outputs": [],
   "source": []
  },
  {
   "cell_type": "code",
   "execution_count": null,
   "id": "1833caa3-f54a-4bde-8879-69583750a034",
   "metadata": {},
   "outputs": [],
   "source": []
  },
  {
   "cell_type": "code",
   "execution_count": null,
   "id": "810cec7c-9e66-4eed-9716-8429cbccd065",
   "metadata": {},
   "outputs": [],
   "source": []
  },
  {
   "cell_type": "code",
   "execution_count": null,
   "id": "a30b7734-7472-4c23-bb49-ebfee2b4e255",
   "metadata": {},
   "outputs": [],
   "source": []
  },
  {
   "cell_type": "code",
   "execution_count": null,
   "id": "9c28508c-a2b5-47bb-ae51-b7036d01e31e",
   "metadata": {},
   "outputs": [],
   "source": []
  },
  {
   "cell_type": "code",
   "execution_count": null,
   "id": "d08880c0-e68c-4fca-8689-46e7a99690e1",
   "metadata": {},
   "outputs": [],
   "source": []
  },
  {
   "cell_type": "code",
   "execution_count": null,
   "id": "98dc5730-507a-4464-8d8f-32c75e3a4fae",
   "metadata": {},
   "outputs": [],
   "source": []
  }
 ],
 "metadata": {
  "kernelspec": {
   "display_name": "Python 3 (ipykernel)",
   "language": "python",
   "name": "python3"
  },
  "language_info": {
   "codemirror_mode": {
    "name": "ipython",
    "version": 3
   },
   "file_extension": ".py",
   "mimetype": "text/x-python",
   "name": "python",
   "nbconvert_exporter": "python",
   "pygments_lexer": "ipython3",
   "version": "3.12.7"
  }
 },
 "nbformat": 4,
 "nbformat_minor": 5
}
